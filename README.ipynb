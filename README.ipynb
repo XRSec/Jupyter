{
 "cells": [
  {
   "cell_type": "markdown",
   "id": "directed-subsection",
   "metadata": {},
   "source": [
    "# Jupyter Rust\n",
    "\n",
    "![version](https://img.shields.io/badge/Date-2022_01_18-da282a)\n",
    "\n",
    "- use [google/evcxr](https://github.com/google/evcxr)\n",
    "\n",
    "## Run\n",
    "\n",
    "```bash\n",
    "docker run -it -d \\\n",
    "--restart=always \\\n",
    "--name jupyter \\\n",
    "-v \"/docker/jupyter:/root\" \\\n",
    "-p 8888:8888 \\\n",
    "xrsec/jupyter\n",
    "\n",
    "# Get Tocken\n",
    "docker logs jupyter\n",
    "```\n",
    "\n",
    "<hr>"
   ]
  },
  {
   "cell_type": "markdown",
   "id": "comparative-member",
   "metadata": {},
   "source": [
    "## Play Game"
   ]
  },
  {
   "cell_type": "code",
   "execution_count": null,
   "id": "optimum-dominant",
   "metadata": {
    "scrolled": true
   },
   "outputs": [],
   "source": [
    "# 服务切换 Python 运行自定义命令\n",
    "!which pip3\n",
    "!pip3 install requests"
   ]
  },
  {
   "cell_type": "code",
   "execution_count": null,
   "id": "strategic-application",
   "metadata": {},
   "outputs": [],
   "source": [
    "import requests\n",
    "requests.get(\"https://www.baidu.com\").text"
   ]
  },
  {
   "cell_type": "code",
   "execution_count": null,
   "id": "regulated-riverside",
   "metadata": {},
   "outputs": [],
   "source": [
    "// 服务切换 Rust 运行自定义命令\n",
    "println!(\"Hello Jupyter Book!\");\n",
    "println!(\"作者刚开始学习Rust,所以只会 println!\");"
   ]
  },
  {
   "cell_type": "markdown",
   "id": "viral-print",
   "metadata": {},
   "source": [
    "## Jupyter LAB\n",
    "URL: http://localhost:8888/lab"
   ]
  }
 ],
 "metadata": {
  "kernelspec": {
   "display_name": "Rust",
   "language": "rust",
   "name": "rust"
  },
  "language_info": {
   "codemirror_mode": "rust",
   "file_extension": ".rs",
   "mimetype": "text/rust",
   "name": "Rust",
   "pygment_lexer": "rust",
   "version": ""
  }
 },
 "nbformat": 4,
 "nbformat_minor": 5
}
